{
 "cells": [
  {
   "cell_type": "code",
   "execution_count": 8,
   "id": "7ae70c10",
   "metadata": {},
   "outputs": [
    {
     "name": "stdout",
     "output_type": "stream",
     "text": [
      "2.3.0\n"
     ]
    }
   ],
   "source": [
    "import tensorflow as tf\n",
    "import numpy as np\n",
    "import cv2\n",
    "import matplotlib.pyplot as plt\n",
    "from tensorflow.keras import Input, layers\n",
    "\n",
    "print(tf.__version__)"
   ]
  },
  {
   "cell_type": "code",
   "execution_count": 2,
   "id": "214e6c4b",
   "metadata": {},
   "outputs": [
    {
     "name": "stdout",
     "output_type": "stream",
     "text": [
      "Training Images range from 0.00000 to 1.00000\n",
      "Test     Images range from 0.00000 to 1.00000\n",
      "(45000, 32, 32, 3)\n",
      "45000\n",
      "(10000, 32, 32, 3)\n",
      "10000\n",
      "(5000, 32, 32, 3)\n",
      "5000\n"
     ]
    }
   ],
   "source": [
    "#Download and preprocess dataset:\n",
    "(train_images, train_labels), (test_images, test_labels) = tf.keras.datasets.cifar10.load_data()\n",
    "class_names = ['airplane','automobile','bird','cat','deer','dog','frog','horse','ship','truck']\n",
    "\n",
    "# Now separate out a validation set.\n",
    "val_frac = 0.1\n",
    "num_val_samples = int(len(train_images)*val_frac)\n",
    "# choose num_val_samples indices up to the size of train_images, !replace => no repeats\n",
    "val_idxs = np.random.choice(np.arange(len(train_images)), size=num_val_samples, replace=False)\n",
    "trn_idxs = np.setdiff1d(np.arange(len(train_images)), val_idxs)\n",
    "val_images = train_images[val_idxs, :,:,:]\n",
    "train_images = train_images[trn_idxs, :,:,:]\n",
    "\n",
    "val_labels = train_labels[val_idxs]\n",
    "train_labels = train_labels[trn_idxs]\n",
    "\n",
    "train_labels = train_labels.squeeze()\n",
    "test_labels = test_labels.squeeze()\n",
    "val_labels = val_labels.squeeze()\n",
    "\n",
    "input_shape  = train_images.shape[1:]\n",
    "train_images = train_images / 255.0\n",
    "test_images  = test_images  / 255.0\n",
    "val_images   = val_images   / 255.0\n",
    "print(\"Training Images range from {:2.5f} to {:2.5f}\".format(np.min(train_images), np.max(train_images)))\n",
    "print(\"Test     Images range from {:2.5f} to {:2.5f}\".format(np.min(test_images), np.max(test_images)))\n",
    "\n",
    "print(train_images.shape)\n",
    "print(len(train_labels))\n",
    "print(test_images.shape)\n",
    "print(len(test_labels))\n",
    "print(val_images.shape)\n",
    "print(len(val_labels))"
   ]
  },
  {
   "cell_type": "code",
   "execution_count": 3,
   "id": "64e9d161",
   "metadata": {},
   "outputs": [
    {
     "name": "stdout",
     "output_type": "stream",
     "text": [
      "Model: \"sequential\"\n",
      "_________________________________________________________________\n",
      "Layer (type)                 Output Shape              Param #   \n",
      "=================================================================\n",
      "conv2d (Conv2D)              (None, 16, 16, 32)        896       \n",
      "_________________________________________________________________\n",
      "conv2d_1 (Conv2D)            (None, 8, 8, 64)          18496     \n",
      "_________________________________________________________________\n",
      "max_pooling2d (MaxPooling2D) (None, 4, 4, 64)          0         \n",
      "_________________________________________________________________\n",
      "flatten (Flatten)            (None, 1024)              0         \n",
      "_________________________________________________________________\n",
      "dense (Dense)                (None, 1024)              1049600   \n",
      "_________________________________________________________________\n",
      "dense_1 (Dense)              (None, 10)                10250     \n",
      "=================================================================\n",
      "Total params: 1,079,242\n",
      "Trainable params: 1,079,242\n",
      "Non-trainable params: 0\n",
      "_________________________________________________________________\n"
     ]
    }
   ],
   "source": [
    "model1 = tf.keras.Sequential([\n",
    "    Input(shape=input_shape),\n",
    "    layers.Conv2D(32, kernel_size=(3,3), activation=\"relu\", padding='same', strides=(2,2)),\n",
    "    layers.Conv2D(64, kernel_size=(3,3), activation=\"relu\", padding='same', strides=(2,2)),\n",
    "    layers.MaxPooling2D(pool_size=(2, 2), strides=(2,2)), \n",
    "    layers.Flatten(),\n",
    "    layers.Dense(1024, activation='relu'),\n",
    "    layers.Dense(10)\n",
    "])\n",
    "model1.compile(optimizer='adam',\n",
    "              loss=tf.keras.losses.SparseCategoricalCrossentropy(from_logits=True),\n",
    "              metrics=['accuracy'])\n",
    "model1.summary()"
   ]
  },
  {
   "cell_type": "code",
   "execution_count": 4,
   "id": "2856b374",
   "metadata": {},
   "outputs": [
    {
     "name": "stdout",
     "output_type": "stream",
     "text": [
      "Epoch 1/50\n",
      "1407/1407 [==============================] - 23s 16ms/step - loss: 1.4304 - accuracy: 0.4836 - val_loss: 1.2916 - val_accuracy: 0.5366\n",
      "Epoch 2/50\n",
      "1407/1407 [==============================] - 23s 16ms/step - loss: 1.0798 - accuracy: 0.6177 - val_loss: 1.0570 - val_accuracy: 0.6268\n",
      "Epoch 3/50\n",
      "1407/1407 [==============================] - 25s 18ms/step - loss: 0.9165 - accuracy: 0.6766 - val_loss: 1.0169 - val_accuracy: 0.6382\n",
      "Epoch 4/50\n",
      "1407/1407 [==============================] - 24s 17ms/step - loss: 0.7799 - accuracy: 0.7244 - val_loss: 1.0199 - val_accuracy: 0.6436\n",
      "Epoch 5/50\n",
      "1407/1407 [==============================] - 25s 18ms/step - loss: 0.6443 - accuracy: 0.7725 - val_loss: 0.9898 - val_accuracy: 0.6630\n",
      "Epoch 6/50\n",
      "1407/1407 [==============================] - 25s 18ms/step - loss: 0.5056 - accuracy: 0.8214 - val_loss: 1.0769 - val_accuracy: 0.6634\n",
      "Epoch 7/50\n",
      "1407/1407 [==============================] - 23s 16ms/step - loss: 0.3705 - accuracy: 0.8714 - val_loss: 1.1535 - val_accuracy: 0.6682\n",
      "Epoch 8/50\n",
      "1407/1407 [==============================] - 24s 17ms/step - loss: 0.2580 - accuracy: 0.9116 - val_loss: 1.2926 - val_accuracy: 0.6596\n",
      "Epoch 9/50\n",
      "1407/1407 [==============================] - 24s 17ms/step - loss: 0.1704 - accuracy: 0.9430 - val_loss: 1.4236 - val_accuracy: 0.6774\n",
      "Epoch 10/50\n",
      "1407/1407 [==============================] - 26s 19ms/step - loss: 0.1308 - accuracy: 0.9558 - val_loss: 1.6028 - val_accuracy: 0.6702\n",
      "Epoch 11/50\n",
      "1407/1407 [==============================] - 24s 17ms/step - loss: 0.1045 - accuracy: 0.9643 - val_loss: 1.6986 - val_accuracy: 0.6724\n",
      "Epoch 12/50\n",
      "1407/1407 [==============================] - 24s 17ms/step - loss: 0.0956 - accuracy: 0.9666 - val_loss: 1.9018 - val_accuracy: 0.6662\n",
      "Epoch 13/50\n",
      "1407/1407 [==============================] - 23s 17ms/step - loss: 0.0785 - accuracy: 0.9735 - val_loss: 2.1046 - val_accuracy: 0.6656\n",
      "Epoch 14/50\n",
      "1407/1407 [==============================] - 24s 17ms/step - loss: 0.0824 - accuracy: 0.9725 - val_loss: 2.0312 - val_accuracy: 0.6720\n",
      "Epoch 15/50\n",
      "1407/1407 [==============================] - 24s 17ms/step - loss: 0.0745 - accuracy: 0.9748 - val_loss: 2.1587 - val_accuracy: 0.6642\n",
      "Epoch 16/50\n",
      "1407/1407 [==============================] - 24s 17ms/step - loss: 0.0672 - accuracy: 0.9767 - val_loss: 2.2996 - val_accuracy: 0.6574\n",
      "Epoch 17/50\n",
      "1407/1407 [==============================] - 24s 17ms/step - loss: 0.0668 - accuracy: 0.9774 - val_loss: 2.2931 - val_accuracy: 0.6630\n",
      "Epoch 18/50\n",
      "1407/1407 [==============================] - 24s 17ms/step - loss: 0.0651 - accuracy: 0.9783 - val_loss: 2.4995 - val_accuracy: 0.6530\n",
      "Epoch 19/50\n",
      "1407/1407 [==============================] - 24s 17ms/step - loss: 0.0599 - accuracy: 0.9804 - val_loss: 2.4674 - val_accuracy: 0.6614\n",
      "Epoch 20/50\n",
      "1407/1407 [==============================] - 25s 18ms/step - loss: 0.0566 - accuracy: 0.9810 - val_loss: 2.7885 - val_accuracy: 0.6478\n",
      "Epoch 21/50\n",
      "1407/1407 [==============================] - 25s 18ms/step - loss: 0.0647 - accuracy: 0.9785 - val_loss: 2.7651 - val_accuracy: 0.6464\n",
      "Epoch 22/50\n",
      "1407/1407 [==============================] - 24s 17ms/step - loss: 0.0515 - accuracy: 0.9828 - val_loss: 2.6914 - val_accuracy: 0.6624\n",
      "Epoch 23/50\n",
      "1407/1407 [==============================] - 26s 18ms/step - loss: 0.0551 - accuracy: 0.9820 - val_loss: 2.8868 - val_accuracy: 0.6520\n",
      "Epoch 24/50\n",
      "1407/1407 [==============================] - 26s 18ms/step - loss: 0.0531 - accuracy: 0.9826 - val_loss: 2.9502 - val_accuracy: 0.6530\n",
      "Epoch 25/50\n",
      "1407/1407 [==============================] - 24s 17ms/step - loss: 0.0509 - accuracy: 0.9831 - val_loss: 3.0283 - val_accuracy: 0.6524\n",
      "Epoch 26/50\n",
      "1407/1407 [==============================] - 24s 17ms/step - loss: 0.0522 - accuracy: 0.9828 - val_loss: 2.9846 - val_accuracy: 0.6576\n",
      "Epoch 27/50\n",
      "1407/1407 [==============================] - 24s 17ms/step - loss: 0.0471 - accuracy: 0.9851 - val_loss: 3.0317 - val_accuracy: 0.6480\n",
      "Epoch 28/50\n",
      "1407/1407 [==============================] - 24s 17ms/step - loss: 0.0511 - accuracy: 0.9840 - val_loss: 3.0471 - val_accuracy: 0.6512\n",
      "Epoch 29/50\n",
      "1407/1407 [==============================] - 24s 17ms/step - loss: 0.0534 - accuracy: 0.9836 - val_loss: 3.2325 - val_accuracy: 0.6536\n",
      "Epoch 30/50\n",
      "1407/1407 [==============================] - 24s 17ms/step - loss: 0.0400 - accuracy: 0.9872 - val_loss: 3.1619 - val_accuracy: 0.6520\n",
      "Epoch 31/50\n",
      "1407/1407 [==============================] - 25s 18ms/step - loss: 0.0583 - accuracy: 0.9826 - val_loss: 3.2919 - val_accuracy: 0.6502\n",
      "Epoch 32/50\n",
      "1407/1407 [==============================] - 24s 17ms/step - loss: 0.0409 - accuracy: 0.9869 - val_loss: 3.3617 - val_accuracy: 0.6584\n",
      "Epoch 33/50\n",
      "1407/1407 [==============================] - 24s 17ms/step - loss: 0.0403 - accuracy: 0.9867 - val_loss: 3.4820 - val_accuracy: 0.6496\n",
      "Epoch 34/50\n",
      "1407/1407 [==============================] - 24s 17ms/step - loss: 0.0500 - accuracy: 0.9850 - val_loss: 3.5541 - val_accuracy: 0.6456\n",
      "Epoch 35/50\n",
      "1407/1407 [==============================] - 24s 17ms/step - loss: 0.0482 - accuracy: 0.9851 - val_loss: 3.6125 - val_accuracy: 0.6568\n",
      "Epoch 36/50\n",
      "1407/1407 [==============================] - 23s 17ms/step - loss: 0.0421 - accuracy: 0.9870 - val_loss: 3.6065 - val_accuracy: 0.6518\n",
      "Epoch 37/50\n",
      "1407/1407 [==============================] - 24s 17ms/step - loss: 0.0447 - accuracy: 0.9867 - val_loss: 3.6577 - val_accuracy: 0.6512\n",
      "Epoch 38/50\n",
      "1407/1407 [==============================] - 24s 17ms/step - loss: 0.0462 - accuracy: 0.9857 - val_loss: 4.0344 - val_accuracy: 0.6440\n",
      "Epoch 39/50\n",
      "1407/1407 [==============================] - 23s 16ms/step - loss: 0.0394 - accuracy: 0.9877 - val_loss: 3.7443 - val_accuracy: 0.6626\n",
      "Epoch 40/50\n",
      "1407/1407 [==============================] - 23s 17ms/step - loss: 0.0436 - accuracy: 0.9869 - val_loss: 3.8817 - val_accuracy: 0.6594\n",
      "Epoch 41/50\n",
      "1407/1407 [==============================] - 24s 17ms/step - loss: 0.0391 - accuracy: 0.9884 - val_loss: 3.9929 - val_accuracy: 0.6522\n",
      "Epoch 42/50\n",
      "1407/1407 [==============================] - 23s 17ms/step - loss: 0.0456 - accuracy: 0.9868 - val_loss: 4.0704 - val_accuracy: 0.6532\n",
      "Epoch 43/50\n",
      "1407/1407 [==============================] - 23s 17ms/step - loss: 0.0384 - accuracy: 0.9892 - val_loss: 4.2634 - val_accuracy: 0.6348\n",
      "Epoch 44/50\n",
      "1407/1407 [==============================] - 23s 17ms/step - loss: 0.0396 - accuracy: 0.9885 - val_loss: 4.2749 - val_accuracy: 0.6540\n",
      "Epoch 45/50\n",
      "1407/1407 [==============================] - 22s 16ms/step - loss: 0.0423 - accuracy: 0.9883 - val_loss: 3.9309 - val_accuracy: 0.6626\n",
      "Epoch 46/50\n",
      "1407/1407 [==============================] - 23s 16ms/step - loss: 0.0453 - accuracy: 0.9872 - val_loss: 4.1410 - val_accuracy: 0.6526\n",
      "Epoch 47/50\n",
      "1407/1407 [==============================] - 22s 16ms/step - loss: 0.0391 - accuracy: 0.9886 - val_loss: 4.0773 - val_accuracy: 0.6478\n",
      "Epoch 48/50\n",
      "1407/1407 [==============================] - 23s 16ms/step - loss: 0.0395 - accuracy: 0.9890 - val_loss: 4.1519 - val_accuracy: 0.6492\n",
      "Epoch 49/50\n",
      "1407/1407 [==============================] - 22s 16ms/step - loss: 0.0349 - accuracy: 0.9900 - val_loss: 4.4195 - val_accuracy: 0.6494\n",
      "Epoch 50/50\n",
      "1407/1407 [==============================] - 24s 17ms/step - loss: 0.0460 - accuracy: 0.9867 - val_loss: 4.3158 - val_accuracy: 0.6522\n"
     ]
    }
   ],
   "source": [
    "train_hist1 = model1.fit(train_images, train_labels, \n",
    "                         validation_data=(val_images, val_labels),\n",
    "                         epochs=50)"
   ]
  },
  {
   "cell_type": "code",
   "execution_count": 6,
   "id": "e5313d38",
   "metadata": {},
   "outputs": [
    {
     "name": "stdout",
     "output_type": "stream",
     "text": [
      "313/313 - 2s - loss: 4.4128 - accuracy: 0.6565\n",
      "\n",
      "Test accuracy: 0.656499981880188\n"
     ]
    }
   ],
   "source": [
    "test_loss1, test_acc1 = model1.evaluate(test_images, test_labels, verbose=2)\n",
    "print('\\nTest accuracy:', test_acc1)"
   ]
  },
  {
   "cell_type": "code",
   "execution_count": 36,
   "id": "5efc275c",
   "metadata": {},
   "outputs": [
    {
     "name": "stdout",
     "output_type": "stream",
     "text": [
      "Input shape: (None, 32, 32, 3)\n",
      "Test image shape: (1, 32, 32, 3)\n"
     ]
    },
    {
     "data": {
      "image/png": "[encoded data removed]",
      "text/plain": [
       "<Figure size 432x288 with 2 Axes>"
      ]
     },
     "metadata": {
      "needs_background": "light"
     },
     "output_type": "display_data"
    }
   ],
   "source": [
    "#Load, preprocess, and display test image\n",
    "test_image_frog = cv2.imread(\"./test_image_frog.jpg\")\n",
    "test_image_frog = cv2.resize(test_image_frog, (32, 32))\n",
    "test_image_frog = test_image_frog / 255.0\n",
    "plt.figure()\n",
    "plt.imshow(test_image_frog, cmap='Greys')\n",
    "plt.colorbar()\n",
    "plt.grid(False)\n",
    "\n",
    "print(\"Input shape:\", model1.input_shape)\n",
    "test_image_frog = np.expand_dims(test_image_frog, axis=0)\n",
    "print(\"Test image shape:\", test_image_frog.shape)"
   ]
  },
  {
   "cell_type": "code",
   "execution_count": 40,
   "id": "6020f45c",
   "metadata": {},
   "outputs": [
    {
     "name": "stdout",
     "output_type": "stream",
     "text": [
      "Predicted label: truck\n"
     ]
    }
   ],
   "source": [
    "#Predict label\n",
    "prediction = model1.predict_classes(test_image_frog)\n",
    "print(\"Predicted label:\", class_names[prediction[0]])"
   ]
  },
  {
   "cell_type": "code",
   "execution_count": 56,
   "id": "4048dcae",
   "metadata": {},
   "outputs": [
    {
     "name": "stdout",
     "output_type": "stream",
     "text": [
      "Model: \"sequential_3\"\n",
      "_________________________________________________________________\n",
      "Layer (type)                 Output Shape              Param #   \n",
      "=================================================================\n",
      "depthwise_conv2d_5 (Depthwis (None, 16, 16, 3)         30        \n",
      "_________________________________________________________________\n",
      "conv2d_6 (Conv2D)            (None, 16, 16, 32)        128       \n",
      "_________________________________________________________________\n",
      "depthwise_conv2d_6 (Depthwis (None, 8, 8, 32)          320       \n",
      "_________________________________________________________________\n",
      "conv2d_7 (Conv2D)            (None, 8, 8, 64)          2112      \n",
      "_________________________________________________________________\n",
      "max_pooling2d_3 (MaxPooling2 (None, 4, 4, 64)          0         \n",
      "_________________________________________________________________\n",
      "flatten_3 (Flatten)          (None, 1024)              0         \n",
      "_________________________________________________________________\n",
      "dense_6 (Dense)              (None, 1024)              1049600   \n",
      "_________________________________________________________________\n",
      "dense_7 (Dense)              (None, 10)                10250     \n",
      "=================================================================\n",
      "Total params: 1,062,440\n",
      "Trainable params: 1,062,440\n",
      "Non-trainable params: 0\n",
      "_________________________________________________________________\n"
     ]
    }
   ],
   "source": [
    "model2 = tf.keras.Sequential([\n",
    "    Input(shape=input_shape),\n",
    "    layers.DepthwiseConv2D(kernel_size=(3,3), padding='same', strides=(2,2)),\n",
    "    layers.Conv2D(32, kernel_size=(1,1), activation=\"relu\", strides=(1,1)),\n",
    "    layers.DepthwiseConv2D(kernel_size=(3,3), padding='same', strides=(2,2)),\n",
    "    layers.Conv2D(64, kernel_size=(1,1), activation=\"relu\", strides=(1,1)),\n",
    "    layers.MaxPooling2D(pool_size=(2, 2), strides=(2,2)), \n",
    "    layers.Flatten(),\n",
    "    layers.Dense(1024, activation='relu'),\n",
    "    layers.Dense(10)\n",
    "])\n",
    "model2.compile(optimizer='adam',\n",
    "              loss=tf.keras.losses.SparseCategoricalCrossentropy(from_logits=True),\n",
    "              metrics=['accuracy'])\n",
    "model2.summary()"
   ]
  },
  {
   "cell_type": "code",
   "execution_count": 57,
   "id": "1394c938",
   "metadata": {},
   "outputs": [
    {
     "name": "stdout",
     "output_type": "stream",
     "text": [
      "Epoch 1/50\n",
      "1407/1407 [==============================] - 15s 11ms/step - loss: 1.5618 - accuracy: 0.4365 - val_loss: 1.3617 - val_accuracy: 0.4938\n",
      "Epoch 2/50\n",
      "1407/1407 [==============================] - 29s 20ms/step - loss: 1.2388 - accuracy: 0.5570 - val_loss: 1.2065 - val_accuracy: 0.5646\n",
      "Epoch 3/50\n",
      "1407/1407 [==============================] - 21s 15ms/step - loss: 1.1048 - accuracy: 0.6066 - val_loss: 1.1307 - val_accuracy: 0.5988\n",
      "Epoch 4/50\n",
      "1407/1407 [==============================] - 16s 11ms/step - loss: 0.9910 - accuracy: 0.6496 - val_loss: 1.0929 - val_accuracy: 0.6136\n",
      "Epoch 5/50\n",
      "1407/1407 [==============================] - 16s 12ms/step - loss: 0.8937 - accuracy: 0.6842 - val_loss: 1.0661 - val_accuracy: 0.6198\n",
      "Epoch 6/50\n",
      "1407/1407 [==============================] - 15s 11ms/step - loss: 0.7930 - accuracy: 0.7209 - val_loss: 1.0427 - val_accuracy: 0.6352\n",
      "Epoch 7/50\n",
      "1407/1407 [==============================] - 18s 13ms/step - loss: 0.6905 - accuracy: 0.7569 - val_loss: 1.1005 - val_accuracy: 0.6264\n",
      "Epoch 8/50\n",
      "1407/1407 [==============================] - 17s 12ms/step - loss: 0.5865 - accuracy: 0.7945 - val_loss: 1.1200 - val_accuracy: 0.6342\n",
      "Epoch 9/50\n",
      "1407/1407 [==============================] - 26s 18ms/step - loss: 0.4804 - accuracy: 0.8300 - val_loss: 1.1817 - val_accuracy: 0.6428\n",
      "Epoch 10/50\n",
      "1407/1407 [==============================] - 16s 11ms/step - loss: 0.3713 - accuracy: 0.8707 - val_loss: 1.3634 - val_accuracy: 0.6278\n",
      "Epoch 11/50\n",
      "1407/1407 [==============================] - 17s 12ms/step - loss: 0.2831 - accuracy: 0.9020 - val_loss: 1.4637 - val_accuracy: 0.6380\n",
      "Epoch 12/50\n",
      "1407/1407 [==============================] - 16s 11ms/step - loss: 0.2057 - accuracy: 0.9290 - val_loss: 1.6753 - val_accuracy: 0.6340\n",
      "Epoch 13/50\n",
      "1407/1407 [==============================] - 15s 11ms/step - loss: 0.1642 - accuracy: 0.9435 - val_loss: 1.8959 - val_accuracy: 0.6174\n",
      "Epoch 14/50\n",
      "1407/1407 [==============================] - 15s 11ms/step - loss: 0.1269 - accuracy: 0.9567 - val_loss: 2.0445 - val_accuracy: 0.6194\n",
      "Epoch 15/50\n",
      "1407/1407 [==============================] - 16s 11ms/step - loss: 0.1121 - accuracy: 0.9606 - val_loss: 2.2297 - val_accuracy: 0.6236\n",
      "Epoch 16/50\n",
      "1407/1407 [==============================] - 15s 11ms/step - loss: 0.0983 - accuracy: 0.9654 - val_loss: 2.3057 - val_accuracy: 0.6236\n",
      "Epoch 17/50\n",
      "1407/1407 [==============================] - 15s 11ms/step - loss: 0.0870 - accuracy: 0.9699 - val_loss: 2.4389 - val_accuracy: 0.6218\n",
      "Epoch 18/50\n",
      "1407/1407 [==============================] - 15s 11ms/step - loss: 0.0801 - accuracy: 0.9721 - val_loss: 2.5536 - val_accuracy: 0.6198\n",
      "Epoch 19/50\n",
      "1407/1407 [==============================] - 16s 11ms/step - loss: 0.0797 - accuracy: 0.9738 - val_loss: 2.6026 - val_accuracy: 0.6162\n",
      "Epoch 20/50\n",
      "1407/1407 [==============================] - 16s 11ms/step - loss: 0.0807 - accuracy: 0.9721 - val_loss: 2.7294 - val_accuracy: 0.6242\n",
      "Epoch 21/50\n",
      "1407/1407 [==============================] - 16s 11ms/step - loss: 0.0613 - accuracy: 0.9792 - val_loss: 2.7664 - val_accuracy: 0.6214\n",
      "Epoch 22/50\n",
      "1407/1407 [==============================] - 14s 10ms/step - loss: 0.0697 - accuracy: 0.9766 - val_loss: 2.8133 - val_accuracy: 0.6168\n",
      "Epoch 23/50\n",
      "1407/1407 [==============================] - 14s 10ms/step - loss: 0.0631 - accuracy: 0.9794 - val_loss: 2.9386 - val_accuracy: 0.6176\n",
      "Epoch 24/50\n",
      "1407/1407 [==============================] - 14s 10ms/step - loss: 0.0633 - accuracy: 0.9786 - val_loss: 3.0752 - val_accuracy: 0.6196\n",
      "Epoch 25/50\n",
      "1407/1407 [==============================] - 14s 10ms/step - loss: 0.0563 - accuracy: 0.9813 - val_loss: 3.0647 - val_accuracy: 0.6166\n",
      "Epoch 26/50\n",
      "1407/1407 [==============================] - 14s 10ms/step - loss: 0.0595 - accuracy: 0.9801 - val_loss: 3.1340 - val_accuracy: 0.6108\n",
      "Epoch 27/50\n",
      "1407/1407 [==============================] - 14s 10ms/step - loss: 0.0560 - accuracy: 0.9815 - val_loss: 3.4816 - val_accuracy: 0.6122\n",
      "Epoch 28/50\n",
      "1407/1407 [==============================] - 14s 10ms/step - loss: 0.0563 - accuracy: 0.9805 - val_loss: 3.2238 - val_accuracy: 0.6232\n",
      "Epoch 29/50\n",
      "1407/1407 [==============================] - 14s 10ms/step - loss: 0.0514 - accuracy: 0.9825 - val_loss: 3.3511 - val_accuracy: 0.6084\n",
      "Epoch 30/50\n",
      "1407/1407 [==============================] - 14s 10ms/step - loss: 0.0497 - accuracy: 0.9836 - val_loss: 3.5699 - val_accuracy: 0.6148\n",
      "Epoch 31/50\n",
      "1407/1407 [==============================] - 14s 10ms/step - loss: 0.0527 - accuracy: 0.9824 - val_loss: 3.4013 - val_accuracy: 0.6144\n",
      "Epoch 32/50\n",
      "1407/1407 [==============================] - 14s 10ms/step - loss: 0.0422 - accuracy: 0.9862 - val_loss: 3.6336 - val_accuracy: 0.6060\n",
      "Epoch 33/50\n",
      "1407/1407 [==============================] - 14s 10ms/step - loss: 0.0462 - accuracy: 0.9837 - val_loss: 3.5782 - val_accuracy: 0.6198\n",
      "Epoch 34/50\n",
      "1407/1407 [==============================] - 14s 10ms/step - loss: 0.0488 - accuracy: 0.9842 - val_loss: 3.5920 - val_accuracy: 0.6264\n",
      "Epoch 35/50\n",
      "1407/1407 [==============================] - 14s 10ms/step - loss: 0.0464 - accuracy: 0.9852 - val_loss: 3.6998 - val_accuracy: 0.6170\n",
      "Epoch 36/50\n",
      "1407/1407 [==============================] - 13s 9ms/step - loss: 0.0412 - accuracy: 0.9861 - val_loss: 3.7779 - val_accuracy: 0.6232\n",
      "Epoch 37/50\n",
      "1407/1407 [==============================] - 13s 9ms/step - loss: 0.0457 - accuracy: 0.9854 - val_loss: 3.7176 - val_accuracy: 0.6144\n",
      "Epoch 38/50\n",
      "1407/1407 [==============================] - 14s 10ms/step - loss: 0.0464 - accuracy: 0.9842 - val_loss: 3.8051 - val_accuracy: 0.6212\n",
      "Epoch 39/50\n",
      "1407/1407 [==============================] - 14s 10ms/step - loss: 0.0437 - accuracy: 0.9856 - val_loss: 3.8274 - val_accuracy: 0.6116\n",
      "Epoch 40/50\n",
      "1407/1407 [==============================] - 13s 9ms/step - loss: 0.0371 - accuracy: 0.9881 - val_loss: 3.6939 - val_accuracy: 0.6254\n",
      "Epoch 41/50\n",
      "1407/1407 [==============================] - 13s 9ms/step - loss: 0.0413 - accuracy: 0.9865 - val_loss: 3.8756 - val_accuracy: 0.6192\n",
      "Epoch 42/50\n",
      "1407/1407 [==============================] - 13s 9ms/step - loss: 0.0411 - accuracy: 0.9871 - val_loss: 3.7955 - val_accuracy: 0.6166\n",
      "Epoch 43/50\n",
      "1407/1407 [==============================] - 13s 9ms/step - loss: 0.0379 - accuracy: 0.9874 - val_loss: 3.9925 - val_accuracy: 0.6168\n",
      "Epoch 44/50\n",
      "1407/1407 [==============================] - 13s 9ms/step - loss: 0.0369 - accuracy: 0.9882 - val_loss: 4.1860 - val_accuracy: 0.6070\n",
      "Epoch 45/50\n",
      "1407/1407 [==============================] - 13s 9ms/step - loss: 0.0397 - accuracy: 0.9874 - val_loss: 3.9178 - val_accuracy: 0.6176\n",
      "Epoch 46/50\n",
      "1407/1407 [==============================] - 13s 9ms/step - loss: 0.0354 - accuracy: 0.9885 - val_loss: 4.3005 - val_accuracy: 0.6112\n",
      "Epoch 47/50\n",
      "1407/1407 [==============================] - 13s 9ms/step - loss: 0.0423 - accuracy: 0.9868 - val_loss: 4.0648 - val_accuracy: 0.6168\n",
      "Epoch 48/50\n",
      "1407/1407 [==============================] - 13s 9ms/step - loss: 0.0355 - accuracy: 0.9886 - val_loss: 4.2005 - val_accuracy: 0.6126\n",
      "Epoch 49/50\n",
      "1407/1407 [==============================] - 13s 9ms/step - loss: 0.0366 - accuracy: 0.9887 - val_loss: 4.1469 - val_accuracy: 0.6060\n",
      "Epoch 50/50\n",
      "1407/1407 [==============================] - 13s 9ms/step - loss: 0.0416 - accuracy: 0.9873 - val_loss: 4.2008 - val_accuracy: 0.6106\n"
     ]
    }
   ],
   "source": [
    "train_hist2 = model2.fit(train_images, train_labels, \n",
    "                         validation_data=(val_images, val_labels),\n",
    "                         epochs=50)"
   ]
  },
  {
   "cell_type": "code",
   "execution_count": 58,
   "id": "769d47a0",
   "metadata": {},
   "outputs": [
    {
     "name": "stdout",
     "output_type": "stream",
     "text": [
      "313/313 - 1s - loss: 4.0220 - accuracy: 0.6183\n",
      "\n",
      "Test accuracy: 0.6183000206947327\n"
     ]
    }
   ],
   "source": [
    "test_loss2, test_acc2 = model2.evaluate(test_images, test_labels, verbose=2)\n",
    "print('\\nTest accuracy:', test_acc2)"
   ]
  },
  {
   "cell_type": "code",
   "execution_count": 59,
   "id": "291a079b",
   "metadata": {},
   "outputs": [
    {
     "name": "stdout",
     "output_type": "stream",
     "text": [
      "Predicted label: airplane\n"
     ]
    }
   ],
   "source": [
    "#Predict label\n",
    "prediction = model2.predict_classes(test_image_frog)\n",
    "print(\"Predicted label:\", class_names[prediction[0]])"
   ]
  }
 ],
 "metadata": {
  "kernelspec": {
   "display_name": "Python 3",
   "language": "python",
   "name": "python3"
  },
  "language_info": {
   "codemirror_mode": {
    "name": "ipython",
    "version": 3
   },
   "file_extension": ".py",
   "mimetype": "text/x-python",
   "name": "python",
   "nbconvert_exporter": "python",
   "pygments_lexer": "ipython3",
   "version": "3.8.8"
  }
 },
 "nbformat": 4,
 "nbformat_minor": 5
}
